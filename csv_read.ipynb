{
 "cells": [
  {
   "cell_type": "markdown",
   "id": "0c2bb2bb",
   "metadata": {},
   "source": [
    "Here a DEEP dataset file names s01.mat is taken to conver into .csv file. In this segment, the purpose is to read the converted data.csv file. \n",
    "This file is generated for read a .csv file. this code is generated from ChatGPT and make changes according to my preferences."
   ]
  },
  {
   "cell_type": "code",
   "execution_count": 2,
   "id": "1af7c10a",
   "metadata": {},
   "outputs": [],
   "source": [
    "import pandas as pd\n"
   ]
  },
  {
   "cell_type": "code",
   "execution_count": 4,
   "id": "ebb0848d",
   "metadata": {},
   "outputs": [],
   "source": [
    "file_path = \"/Users/pabitra/Documents/data.csv\" # Replace with your actual file path\n",
    "df = pd.read_csv(file_path)\n"
   ]
  },
  {
   "cell_type": "code",
   "execution_count": 5,
   "id": "196af5c0",
   "metadata": {},
   "outputs": [
    {
     "name": "stdout",
     "output_type": "stream",
     "text": [
      "<class 'pandas.core.frame.DataFrame'>\n",
      "RangeIndex: 1600 entries, 0 to 1599\n",
      "Columns: 8064 entries, 0 to 8063\n",
      "dtypes: float64(8064)\n",
      "memory usage: 98.4 MB\n"
     ]
    }
   ],
   "source": [
    "# Display the first 5 rows\n",
    "df.head()\n",
    "\n",
    "# Optional: check shape\n",
    "df.shape  # (rows, columns)\n",
    "\n",
    "# Optional: get summary\n",
    "df.info()\n"
   ]
  },
  {
   "cell_type": "code",
   "execution_count": 6,
   "id": "352c8abf",
   "metadata": {},
   "outputs": [
    {
     "name": "stdout",
     "output_type": "stream",
     "text": [
      "          0         1         2         3         4         5         6  \\\n",
      "0  0.948232  1.653335  3.013726  1.495061 -1.264836 -1.969558 -2.169066   \n",
      "1  0.124707  1.390083  1.835099 -1.110738 -2.590622 -1.844258 -0.739794   \n",
      "2 -2.216511  2.292017  2.746369 -2.364459 -2.309528 -0.668117 -0.837056   \n",
      "3  1.005734  1.297927  2.367689 -0.231850 -1.662444 -0.014568  0.736730   \n",
      "4  5.095919  5.000869  4.176166  0.354056 -4.154098 -3.980890 -0.553856   \n",
      "\n",
      "          7         8         9  ...      8054      8055      8056      8057  \\\n",
      "0 -0.215480  3.326769  0.847765  ...  0.226868 -0.872599 -0.251316  1.010068   \n",
      "1  2.395738  3.976389  0.002038  ...  6.529591  4.566243  0.789426 -1.993420   \n",
      "2  3.654975  6.369190  0.956049  ...  4.705621  3.893851  2.738965  0.631252   \n",
      "3  1.421469  0.419904 -2.287016  ...  0.530650  2.947151  4.269418  3.324032   \n",
      "4  1.402554 -0.276699 -3.664428  ...  0.817408  0.582459  2.267037  1.831632   \n",
      "\n",
      "       8058      8059      8060      8061      8062      8063  \n",
      "0  3.845171  5.582611  2.171023 -2.826489 -4.477230 -3.676928  \n",
      "1  0.317051  5.416049  4.085006 -2.987021 -6.287809 -4.474290  \n",
      "2  2.163665  6.221588  4.290778 -2.637078 -7.406510 -6.755904  \n",
      "3  4.516819  4.856169 -0.038786 -4.582649 -4.403024 -1.373118  \n",
      "4  0.616502  0.298991 -0.268494 -0.879462 -2.608805 -2.170391  \n",
      "\n",
      "[5 rows x 8064 columns]\n",
      "Shape: (1600, 8064)\n"
     ]
    }
   ],
   "source": [
    "import pandas as pd\n",
    "\n",
    "# Load the CSV file\n",
    "df = pd.read_csv('/Users/pabitra/Documents/data.csv')\n",
    "\n",
    "# Preview the first few rows\n",
    "print(df.head())\n",
    "\n",
    "# See the dimensions\n",
    "print(\"Shape:\", df.shape)\n"
   ]
  },
  {
   "cell_type": "code",
   "execution_count": 7,
   "id": "c0ec814d",
   "metadata": {},
   "outputs": [
    {
     "name": "stdout",
     "output_type": "stream",
     "text": [
      "['labels.csv', 'data.csv']\n"
     ]
    }
   ],
   "source": [
    "import os\n",
    "\n",
    "folder = '/Users/pabitra/Documents'\n",
    "csv_files = [f for f in os.listdir(folder) if f.endswith('.csv')]\n",
    "print(csv_files)\n"
   ]
  },
  {
   "cell_type": "code",
   "execution_count": 8,
   "id": "d35f2ae9",
   "metadata": {},
   "outputs": [
    {
     "name": "stdout",
     "output_type": "stream",
     "text": [
      "(1600, 8064)\n"
     ]
    },
    {
     "data": {
      "text/html": [
       "<div>\n",
       "<style scoped>\n",
       "    .dataframe tbody tr th:only-of-type {\n",
       "        vertical-align: middle;\n",
       "    }\n",
       "\n",
       "    .dataframe tbody tr th {\n",
       "        vertical-align: top;\n",
       "    }\n",
       "\n",
       "    .dataframe thead th {\n",
       "        text-align: right;\n",
       "    }\n",
       "</style>\n",
       "<table border=\"1\" class=\"dataframe\">\n",
       "  <thead>\n",
       "    <tr style=\"text-align: right;\">\n",
       "      <th></th>\n",
       "      <th>0</th>\n",
       "      <th>1</th>\n",
       "      <th>2</th>\n",
       "      <th>3</th>\n",
       "      <th>4</th>\n",
       "      <th>5</th>\n",
       "      <th>6</th>\n",
       "      <th>7</th>\n",
       "      <th>8</th>\n",
       "      <th>9</th>\n",
       "      <th>...</th>\n",
       "      <th>8054</th>\n",
       "      <th>8055</th>\n",
       "      <th>8056</th>\n",
       "      <th>8057</th>\n",
       "      <th>8058</th>\n",
       "      <th>8059</th>\n",
       "      <th>8060</th>\n",
       "      <th>8061</th>\n",
       "      <th>8062</th>\n",
       "      <th>8063</th>\n",
       "    </tr>\n",
       "  </thead>\n",
       "  <tbody>\n",
       "    <tr>\n",
       "      <th>0</th>\n",
       "      <td>0.948232</td>\n",
       "      <td>1.653335</td>\n",
       "      <td>3.013726</td>\n",
       "      <td>1.495061</td>\n",
       "      <td>-1.264836</td>\n",
       "      <td>-1.969558</td>\n",
       "      <td>-2.169066</td>\n",
       "      <td>-0.215480</td>\n",
       "      <td>3.326769</td>\n",
       "      <td>0.847765</td>\n",
       "      <td>...</td>\n",
       "      <td>0.226868</td>\n",
       "      <td>-0.872599</td>\n",
       "      <td>-0.251316</td>\n",
       "      <td>1.010068</td>\n",
       "      <td>3.845171</td>\n",
       "      <td>5.582611</td>\n",
       "      <td>2.171023</td>\n",
       "      <td>-2.826489</td>\n",
       "      <td>-4.477230</td>\n",
       "      <td>-3.676928</td>\n",
       "    </tr>\n",
       "    <tr>\n",
       "      <th>1</th>\n",
       "      <td>0.124707</td>\n",
       "      <td>1.390083</td>\n",
       "      <td>1.835099</td>\n",
       "      <td>-1.110738</td>\n",
       "      <td>-2.590622</td>\n",
       "      <td>-1.844258</td>\n",
       "      <td>-0.739794</td>\n",
       "      <td>2.395738</td>\n",
       "      <td>3.976389</td>\n",
       "      <td>0.002038</td>\n",
       "      <td>...</td>\n",
       "      <td>6.529591</td>\n",
       "      <td>4.566243</td>\n",
       "      <td>0.789426</td>\n",
       "      <td>-1.993420</td>\n",
       "      <td>0.317051</td>\n",
       "      <td>5.416049</td>\n",
       "      <td>4.085006</td>\n",
       "      <td>-2.987021</td>\n",
       "      <td>-6.287809</td>\n",
       "      <td>-4.474290</td>\n",
       "    </tr>\n",
       "    <tr>\n",
       "      <th>2</th>\n",
       "      <td>-2.216511</td>\n",
       "      <td>2.292017</td>\n",
       "      <td>2.746369</td>\n",
       "      <td>-2.364459</td>\n",
       "      <td>-2.309528</td>\n",
       "      <td>-0.668117</td>\n",
       "      <td>-0.837056</td>\n",
       "      <td>3.654975</td>\n",
       "      <td>6.369190</td>\n",
       "      <td>0.956049</td>\n",
       "      <td>...</td>\n",
       "      <td>4.705621</td>\n",
       "      <td>3.893851</td>\n",
       "      <td>2.738965</td>\n",
       "      <td>0.631252</td>\n",
       "      <td>2.163665</td>\n",
       "      <td>6.221588</td>\n",
       "      <td>4.290778</td>\n",
       "      <td>-2.637078</td>\n",
       "      <td>-7.406510</td>\n",
       "      <td>-6.755904</td>\n",
       "    </tr>\n",
       "    <tr>\n",
       "      <th>3</th>\n",
       "      <td>1.005734</td>\n",
       "      <td>1.297927</td>\n",
       "      <td>2.367689</td>\n",
       "      <td>-0.231850</td>\n",
       "      <td>-1.662444</td>\n",
       "      <td>-0.014568</td>\n",
       "      <td>0.736730</td>\n",
       "      <td>1.421469</td>\n",
       "      <td>0.419904</td>\n",
       "      <td>-2.287016</td>\n",
       "      <td>...</td>\n",
       "      <td>0.530650</td>\n",
       "      <td>2.947151</td>\n",
       "      <td>4.269418</td>\n",
       "      <td>3.324032</td>\n",
       "      <td>4.516819</td>\n",
       "      <td>4.856169</td>\n",
       "      <td>-0.038786</td>\n",
       "      <td>-4.582649</td>\n",
       "      <td>-4.403024</td>\n",
       "      <td>-1.373118</td>\n",
       "    </tr>\n",
       "    <tr>\n",
       "      <th>4</th>\n",
       "      <td>5.095919</td>\n",
       "      <td>5.000869</td>\n",
       "      <td>4.176166</td>\n",
       "      <td>0.354056</td>\n",
       "      <td>-4.154098</td>\n",
       "      <td>-3.980890</td>\n",
       "      <td>-0.553856</td>\n",
       "      <td>1.402554</td>\n",
       "      <td>-0.276699</td>\n",
       "      <td>-3.664428</td>\n",
       "      <td>...</td>\n",
       "      <td>0.817408</td>\n",
       "      <td>0.582459</td>\n",
       "      <td>2.267037</td>\n",
       "      <td>1.831632</td>\n",
       "      <td>0.616502</td>\n",
       "      <td>0.298991</td>\n",
       "      <td>-0.268494</td>\n",
       "      <td>-0.879462</td>\n",
       "      <td>-2.608805</td>\n",
       "      <td>-2.170391</td>\n",
       "    </tr>\n",
       "  </tbody>\n",
       "</table>\n",
       "<p>5 rows × 8064 columns</p>\n",
       "</div>"
      ],
      "text/plain": [
       "          0         1         2         3         4         5         6  \\\n",
       "0  0.948232  1.653335  3.013726  1.495061 -1.264836 -1.969558 -2.169066   \n",
       "1  0.124707  1.390083  1.835099 -1.110738 -2.590622 -1.844258 -0.739794   \n",
       "2 -2.216511  2.292017  2.746369 -2.364459 -2.309528 -0.668117 -0.837056   \n",
       "3  1.005734  1.297927  2.367689 -0.231850 -1.662444 -0.014568  0.736730   \n",
       "4  5.095919  5.000869  4.176166  0.354056 -4.154098 -3.980890 -0.553856   \n",
       "\n",
       "          7         8         9  ...      8054      8055      8056      8057  \\\n",
       "0 -0.215480  3.326769  0.847765  ...  0.226868 -0.872599 -0.251316  1.010068   \n",
       "1  2.395738  3.976389  0.002038  ...  6.529591  4.566243  0.789426 -1.993420   \n",
       "2  3.654975  6.369190  0.956049  ...  4.705621  3.893851  2.738965  0.631252   \n",
       "3  1.421469  0.419904 -2.287016  ...  0.530650  2.947151  4.269418  3.324032   \n",
       "4  1.402554 -0.276699 -3.664428  ...  0.817408  0.582459  2.267037  1.831632   \n",
       "\n",
       "       8058      8059      8060      8061      8062      8063  \n",
       "0  3.845171  5.582611  2.171023 -2.826489 -4.477230 -3.676928  \n",
       "1  0.317051  5.416049  4.085006 -2.987021 -6.287809 -4.474290  \n",
       "2  2.163665  6.221588  4.290778 -2.637078 -7.406510 -6.755904  \n",
       "3  4.516819  4.856169 -0.038786 -4.582649 -4.403024 -1.373118  \n",
       "4  0.616502  0.298991 -0.268494 -0.879462 -2.608805 -2.170391  \n",
       "\n",
       "[5 rows x 8064 columns]"
      ]
     },
     "execution_count": 8,
     "metadata": {},
     "output_type": "execute_result"
    }
   ],
   "source": [
    "import pandas as pd\n",
    "\n",
    "# Load the EEG data from CSV\n",
    "df = pd.read_csv('/Users/pabitra/Documents/data.csv')\n",
    "print(df.shape)\n",
    "df.head()\n"
   ]
  },
  {
   "cell_type": "code",
   "execution_count": 9,
   "id": "890c61e1",
   "metadata": {},
   "outputs": [],
   "source": [
    "trial1 = df.iloc[:40]\n"
   ]
  },
  {
   "cell_type": "code",
   "execution_count": 10,
   "id": "8ed38559",
   "metadata": {},
   "outputs": [],
   "source": [
    "channel5_trial1 = df.iloc[4]\n"
   ]
  }
 ],
 "metadata": {
  "kernelspec": {
   "display_name": "base",
   "language": "python",
   "name": "python3"
  },
  "language_info": {
   "codemirror_mode": {
    "name": "ipython",
    "version": 3
   },
   "file_extension": ".py",
   "mimetype": "text/x-python",
   "name": "python",
   "nbconvert_exporter": "python",
   "pygments_lexer": "ipython3",
   "version": "3.12.7"
  }
 },
 "nbformat": 4,
 "nbformat_minor": 5
}
