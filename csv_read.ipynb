{
 "cells": [
  {
   "cell_type": "markdown",
   "id": "0c2bb2bb",
   "metadata": {},
   "source": [
    "This file is generated for read a .csv file. this code is generated from ChatGPT and make changes according to my preferences."
   ]
  },
  {
   "cell_type": "code",
   "execution_count": 2,
   "id": "1af7c10a",
   "metadata": {},
   "outputs": [],
   "source": [
    "import pandas as pd\n"
   ]
  },
  {
   "cell_type": "code",
   "execution_count": 4,
   "id": "ebb0848d",
   "metadata": {},
   "outputs": [],
   "source": [
    "file_path = \"/Users/pabitra/Documents/data.csv\" # Replace with your actual file path\n",
    "df = pd.read_csv(file_path)\n"
   ]
  },
  {
   "cell_type": "code",
   "execution_count": null,
   "id": "196af5c0",
   "metadata": {},
   "outputs": [],
   "source": [
    "# Display the first 5 rows\n",
    "df.head()\n",
    "\n",
    "# Optional: check shape\n",
    "df.shape  # (rows, columns)\n",
    "\n",
    "# Optional: get summary\n",
    "df.info()\n"
   ]
  }
 ],
 "metadata": {
  "kernelspec": {
   "display_name": "base",
   "language": "python",
   "name": "python3"
  },
  "language_info": {
   "codemirror_mode": {
    "name": "ipython",
    "version": 3
   },
   "file_extension": ".py",
   "mimetype": "text/x-python",
   "name": "python",
   "nbconvert_exporter": "python",
   "pygments_lexer": "ipython3",
   "version": "3.12.7"
  }
 },
 "nbformat": 4,
 "nbformat_minor": 5
}
