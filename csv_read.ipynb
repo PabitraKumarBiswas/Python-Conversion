{
 "cells": [
  {
   "cell_type": "markdown",
   "id": "0c2bb2bb",
   "metadata": {},
   "source": [
    "This file is generated for read a .csv file. this code is generated from ChatGPT and make changes according to my preferences."
   ]
  }
 ],
 "metadata": {
  "language_info": {
   "name": "python"
  }
 },
 "nbformat": 4,
 "nbformat_minor": 5
}
