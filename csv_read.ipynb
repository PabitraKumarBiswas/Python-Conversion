{
 "cells": [
  {
   "cell_type": "markdown",
   "id": "0c2bb2bb",
   "metadata": {},
   "source": [
    "This file is generated for read a .csv file. this code is generated from ChatGPT and make changes according to my preferences."
   ]
  },
  {
   "cell_type": "code",
   "execution_count": 2,
   "id": "1af7c10a",
   "metadata": {},
   "outputs": [],
   "source": [
    "import pandas as pd\n"
   ]
  },
  {
   "cell_type": "code",
   "execution_count": 4,
   "id": "ebb0848d",
   "metadata": {},
   "outputs": [],
   "source": [
    "file_path = \"/Users/pabitra/Documents/data.csv\" # Replace with your actual file path\n",
    "df = pd.read_csv(file_path)\n"
   ]
  },
  {
   "cell_type": "code",
   "execution_count": 5,
   "id": "196af5c0",
   "metadata": {},
   "outputs": [
    {
     "name": "stdout",
     "output_type": "stream",
     "text": [
      "<class 'pandas.core.frame.DataFrame'>\n",
      "RangeIndex: 1600 entries, 0 to 1599\n",
      "Columns: 8064 entries, 0 to 8063\n",
      "dtypes: float64(8064)\n",
      "memory usage: 98.4 MB\n"
     ]
    }
   ],
   "source": [
    "# Display the first 5 rows\n",
    "df.head()\n",
    "\n",
    "# Optional: check shape\n",
    "df.shape  # (rows, columns)\n",
    "\n",
    "# Optional: get summary\n",
    "df.info()\n"
   ]
  },
  {
   "cell_type": "code",
   "execution_count": 6,
   "id": "352c8abf",
   "metadata": {},
   "outputs": [
    {
     "name": "stdout",
     "output_type": "stream",
     "text": [
      "          0         1         2         3         4         5         6  \\\n",
      "0  0.948232  1.653335  3.013726  1.495061 -1.264836 -1.969558 -2.169066   \n",
      "1  0.124707  1.390083  1.835099 -1.110738 -2.590622 -1.844258 -0.739794   \n",
      "2 -2.216511  2.292017  2.746369 -2.364459 -2.309528 -0.668117 -0.837056   \n",
      "3  1.005734  1.297927  2.367689 -0.231850 -1.662444 -0.014568  0.736730   \n",
      "4  5.095919  5.000869  4.176166  0.354056 -4.154098 -3.980890 -0.553856   \n",
      "\n",
      "          7         8         9  ...      8054      8055      8056      8057  \\\n",
      "0 -0.215480  3.326769  0.847765  ...  0.226868 -0.872599 -0.251316  1.010068   \n",
      "1  2.395738  3.976389  0.002038  ...  6.529591  4.566243  0.789426 -1.993420   \n",
      "2  3.654975  6.369190  0.956049  ...  4.705621  3.893851  2.738965  0.631252   \n",
      "3  1.421469  0.419904 -2.287016  ...  0.530650  2.947151  4.269418  3.324032   \n",
      "4  1.402554 -0.276699 -3.664428  ...  0.817408  0.582459  2.267037  1.831632   \n",
      "\n",
      "       8058      8059      8060      8061      8062      8063  \n",
      "0  3.845171  5.582611  2.171023 -2.826489 -4.477230 -3.676928  \n",
      "1  0.317051  5.416049  4.085006 -2.987021 -6.287809 -4.474290  \n",
      "2  2.163665  6.221588  4.290778 -2.637078 -7.406510 -6.755904  \n",
      "3  4.516819  4.856169 -0.038786 -4.582649 -4.403024 -1.373118  \n",
      "4  0.616502  0.298991 -0.268494 -0.879462 -2.608805 -2.170391  \n",
      "\n",
      "[5 rows x 8064 columns]\n",
      "Shape: (1600, 8064)\n"
     ]
    }
   ],
   "source": [
    "import pandas as pd\n",
    "\n",
    "# Load the CSV file\n",
    "df = pd.read_csv('/Users/pabitra/Documents/data.csv')\n",
    "\n",
    "# Preview the first few rows\n",
    "print(df.head())\n",
    "\n",
    "# See the dimensions\n",
    "print(\"Shape:\", df.shape)\n"
   ]
  },
  {
   "cell_type": "code",
   "execution_count": 7,
   "id": "c0ec814d",
   "metadata": {},
   "outputs": [
    {
     "name": "stdout",
     "output_type": "stream",
     "text": [
      "['labels.csv', 'data.csv']\n"
     ]
    }
   ],
   "source": [
    "import os\n",
    "\n",
    "folder = '/Users/pabitra/Documents'\n",
    "csv_files = [f for f in os.listdir(folder) if f.endswith('.csv')]\n",
    "print(csv_files)\n"
   ]
  }
 ],
 "metadata": {
  "kernelspec": {
   "display_name": "base",
   "language": "python",
   "name": "python3"
  },
  "language_info": {
   "codemirror_mode": {
    "name": "ipython",
    "version": 3
   },
   "file_extension": ".py",
   "mimetype": "text/x-python",
   "name": "python",
   "nbconvert_exporter": "python",
   "pygments_lexer": "ipython3",
   "version": "3.12.7"
  }
 },
 "nbformat": 4,
 "nbformat_minor": 5
}
